{
  "cells": [
    {
      "cell_type": "code",
      "execution_count": null,
      "metadata": {
        "id": "5om6LHUhEFzN"
      },
      "outputs": [],
      "source": [
        "# Install any python proxy util\n",
        "!pip install proxy.py"
      ]
    },
    {
      "cell_type": "code",
      "execution_count": null,
      "metadata": {
        "id": "7kXsrXzZbw6R"
      },
      "outputs": [],
      "source": [
        "# Run it in background\n",
        "!nohup proxy --port 8899 --hostname 0.0.0.0 &"
      ]
    },
    {
      "cell_type": "code",
      "execution_count": null,
      "metadata": {
        "id": "_9gQbNvD-Riy"
      },
      "outputs": [],
      "source": [
        "# Download pinggy CLI (link from https://pinggy.io/cli/)\n",
        "!wget \"https://s3.ap-south-1.amazonaws.com/public.pinggy.binaries/v0.1.1/linux/amd64/pinggy\" -O pinggy\n",
        "!chmod +x pinggy"
      ]
    },
    {
      "cell_type": "code",
      "execution_count": null,
      "metadata": {
        "id": "wDP-cFhOVAcA"
      },
      "outputs": [],
      "source": [
        "# Run pinggy to get the connection link (copy without 'tcp://')\n",
        "# Enjoy!\n",
        "!./pinggy -p 443 -R0:localhost:8899 -o StrictHostKeyChecking=no -o ServerAliveInterval=30 tcp@a.pinggy.io"
      ]
    }
  ],
  "metadata": {
    "colab": {
      "provenance": []
    },
    "kernelspec": {
      "display_name": "Python 3",
      "name": "python3"
    },
    "language_info": {
      "name": "python"
    }
  },
  "nbformat": 4,
  "nbformat_minor": 0
}