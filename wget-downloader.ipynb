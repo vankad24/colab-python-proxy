{
  "nbformat": 4,
  "nbformat_minor": 0,
  "metadata": {
    "colab": {
      "provenance": []
    },
    "kernelspec": {
      "name": "python3",
      "display_name": "Python 3"
    },
    "language_info": {
      "name": "python"
    }
  },
  "cells": [
    {
      "cell_type": "markdown",
      "source": [
        "- Создать папку \"Downloads\" на диске\n",
        "- Сохранить куки в txt файл (можно с помощью расширения) и перетащить его в файлы colab\n",
        "- Поменять \"your_link\" на вашу ссылку, а \"your_cookies.txt\" на имя вашего файла\n",
        "- Запустить\n",
        "- Нажать согласиться и подключить google диск\n",
        "- Искать результат на диске\n",
        "- Радоваться жизни!"
      ],
      "metadata": {
        "id": "LQgUI66cJOYR"
      }
    },
    {
      "cell_type": "code",
      "source": [
        "from google.colab import drive\n",
        "drive.mount('/content/drive')"
      ],
      "metadata": {
        "id": "aYKwfLxgHlLA"
      },
      "execution_count": null,
      "outputs": []
    },
    {
      "cell_type": "code",
      "execution_count": null,
      "metadata": {
        "id": "Evayjg-v9L-u"
      },
      "outputs": [],
      "source": [
        "# With cookies\n",
        "!wget -P /content/drive/MyDrive/Downloads --content-disposition --load-cookies your_cookies.txt -c \"your_link\""
      ]
    },
    {
      "cell_type": "code",
      "source": [
        "# Without cookies\n",
        "!wget -P /content/drive/MyDrive/Downloads --content-disposition -c \"your_link\""
      ],
      "metadata": {
        "id": "8gbdTyxrQ-Zj"
      },
      "execution_count": null,
      "outputs": []
    }
  ]
}